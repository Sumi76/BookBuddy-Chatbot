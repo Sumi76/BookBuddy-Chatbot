{
 "cells": [
  {
   "cell_type": "code",
   "execution_count": 1,
   "metadata": {
    "ExecuteTime": {
     "end_time": "2024-03-28T18:18:02.174898Z",
     "start_time": "2024-03-28T18:18:01.258859Z"
    }
   },
   "outputs": [
    {
     "data": {
      "text/plain": "          isbn13      isbn10                   title  \\\n0  9780002005883  0002005883                  Gilead   \n1  9780002261982  0002261987            Spider's Web   \n2  9780006163831  0006163831            The One Tree   \n3  9780006178736  0006178731          Rage of angels   \n4  9780006280897  0006280897          The Four Loves   \n5  9780006280934  0006280935     The Problem of Pain   \n6  9780006353287  0006353282        An Autobiography   \n7  9780006380832  0006380832  Empires of the Monsoon   \n8  9780006470229  000647022X    The Gap Into Madness   \n9  9780006472612  0006472613      Master of the Game   \n\n                                         subtitle  \\\n0                                             NaN   \n1                                         A Novel   \n2                                             NaN   \n3                                             NaN   \n4                                             NaN   \n5                                             NaN   \n6                                             NaN   \n7  A History of the Indian Ocean and Its Invaders   \n8                                 Chaos and Order   \n9                                             NaN   \n\n                           authors                           categories  \\\n0               Marilynne Robinson                              Fiction   \n1  Charles Osborne;Agatha Christie        Detective and mystery stories   \n2             Stephen R. Donaldson                     American fiction   \n3                   Sidney Sheldon                              Fiction   \n4              Clive Staples Lewis                       Christian life   \n5              Clive Staples Lewis                       Christian life   \n6                  Agatha Christie                     Authors, English   \n7                     Richard Hall                         Africa, East   \n8             Stephen R. Donaldson  Hyland, Morn (Fictitious character)   \n9                   Sidney Sheldon                    Adventure stories   \n\n                                           thumbnail  \\\n0  http://books.google.com/books/content?id=KQZCP...   \n1  http://books.google.com/books/content?id=gA5GP...   \n2  http://books.google.com/books/content?id=OmQaw...   \n3  http://books.google.com/books/content?id=FKo2T...   \n4  http://books.google.com/books/content?id=XhQ5X...   \n5  http://books.google.com/books/content?id=Kk-uV...   \n6  http://books.google.com/books/content?id=c49GQ...   \n7  http://books.google.com/books/content?id=MuPEQ...   \n8  http://books.google.com/books/content?id=4oXav...   \n9  http://books.google.com/books/content?id=TkTYp...   \n\n                                         description  published_year  \\\n0  A NOVEL THAT READERS and critics have been eag...          2004.0   \n1  A new 'Christie for Christmas' -- a full-lengt...          2000.0   \n2  Volume Two of Stephen Donaldson's acclaimed se...          1982.0   \n3  A memorable, mesmerizing heroine Jennifer -- b...          1993.0   \n4  Lewis' work on the nature of love divides love...          2002.0   \n5  \"In The Problem of Pain, C.S. Lewis, one of th...          2002.0   \n6                                          Donation.          1977.0   \n7  Until Vasco da Gama discovered the sea-route t...          1998.0   \n8  A new-cover reissue of the fourth book in the ...          1994.0   \n9  Kate Blackwell is an enigma and one of the mos...          1982.0   \n\n   average_rating  num_pages  ratings_count  \n0            3.85      247.0          361.0  \n1            3.83      241.0         5164.0  \n2            3.97      479.0          172.0  \n3            3.93      512.0        29532.0  \n4            4.15      170.0        33684.0  \n5            4.09      176.0        37569.0  \n6            4.27      560.0         3975.0  \n7            4.41      608.0           65.0  \n8            4.15      743.0          103.0  \n9            4.11      489.0        43540.0  ",
      "text/html": "<div>\n<style scoped>\n    .dataframe tbody tr th:only-of-type {\n        vertical-align: middle;\n    }\n\n    .dataframe tbody tr th {\n        vertical-align: top;\n    }\n\n    .dataframe thead th {\n        text-align: right;\n    }\n</style>\n<table border=\"1\" class=\"dataframe\">\n  <thead>\n    <tr style=\"text-align: right;\">\n      <th></th>\n      <th>isbn13</th>\n      <th>isbn10</th>\n      <th>title</th>\n      <th>subtitle</th>\n      <th>authors</th>\n      <th>categories</th>\n      <th>thumbnail</th>\n      <th>description</th>\n      <th>published_year</th>\n      <th>average_rating</th>\n      <th>num_pages</th>\n      <th>ratings_count</th>\n    </tr>\n  </thead>\n  <tbody>\n    <tr>\n      <th>0</th>\n      <td>9780002005883</td>\n      <td>0002005883</td>\n      <td>Gilead</td>\n      <td>NaN</td>\n      <td>Marilynne Robinson</td>\n      <td>Fiction</td>\n      <td>http://books.google.com/books/content?id=KQZCP...</td>\n      <td>A NOVEL THAT READERS and critics have been eag...</td>\n      <td>2004.0</td>\n      <td>3.85</td>\n      <td>247.0</td>\n      <td>361.0</td>\n    </tr>\n    <tr>\n      <th>1</th>\n      <td>9780002261982</td>\n      <td>0002261987</td>\n      <td>Spider's Web</td>\n      <td>A Novel</td>\n      <td>Charles Osborne;Agatha Christie</td>\n      <td>Detective and mystery stories</td>\n      <td>http://books.google.com/books/content?id=gA5GP...</td>\n      <td>A new 'Christie for Christmas' -- a full-lengt...</td>\n      <td>2000.0</td>\n      <td>3.83</td>\n      <td>241.0</td>\n      <td>5164.0</td>\n    </tr>\n    <tr>\n      <th>2</th>\n      <td>9780006163831</td>\n      <td>0006163831</td>\n      <td>The One Tree</td>\n      <td>NaN</td>\n      <td>Stephen R. Donaldson</td>\n      <td>American fiction</td>\n      <td>http://books.google.com/books/content?id=OmQaw...</td>\n      <td>Volume Two of Stephen Donaldson's acclaimed se...</td>\n      <td>1982.0</td>\n      <td>3.97</td>\n      <td>479.0</td>\n      <td>172.0</td>\n    </tr>\n    <tr>\n      <th>3</th>\n      <td>9780006178736</td>\n      <td>0006178731</td>\n      <td>Rage of angels</td>\n      <td>NaN</td>\n      <td>Sidney Sheldon</td>\n      <td>Fiction</td>\n      <td>http://books.google.com/books/content?id=FKo2T...</td>\n      <td>A memorable, mesmerizing heroine Jennifer -- b...</td>\n      <td>1993.0</td>\n      <td>3.93</td>\n      <td>512.0</td>\n      <td>29532.0</td>\n    </tr>\n    <tr>\n      <th>4</th>\n      <td>9780006280897</td>\n      <td>0006280897</td>\n      <td>The Four Loves</td>\n      <td>NaN</td>\n      <td>Clive Staples Lewis</td>\n      <td>Christian life</td>\n      <td>http://books.google.com/books/content?id=XhQ5X...</td>\n      <td>Lewis' work on the nature of love divides love...</td>\n      <td>2002.0</td>\n      <td>4.15</td>\n      <td>170.0</td>\n      <td>33684.0</td>\n    </tr>\n    <tr>\n      <th>5</th>\n      <td>9780006280934</td>\n      <td>0006280935</td>\n      <td>The Problem of Pain</td>\n      <td>NaN</td>\n      <td>Clive Staples Lewis</td>\n      <td>Christian life</td>\n      <td>http://books.google.com/books/content?id=Kk-uV...</td>\n      <td>\"In The Problem of Pain, C.S. Lewis, one of th...</td>\n      <td>2002.0</td>\n      <td>4.09</td>\n      <td>176.0</td>\n      <td>37569.0</td>\n    </tr>\n    <tr>\n      <th>6</th>\n      <td>9780006353287</td>\n      <td>0006353282</td>\n      <td>An Autobiography</td>\n      <td>NaN</td>\n      <td>Agatha Christie</td>\n      <td>Authors, English</td>\n      <td>http://books.google.com/books/content?id=c49GQ...</td>\n      <td>Donation.</td>\n      <td>1977.0</td>\n      <td>4.27</td>\n      <td>560.0</td>\n      <td>3975.0</td>\n    </tr>\n    <tr>\n      <th>7</th>\n      <td>9780006380832</td>\n      <td>0006380832</td>\n      <td>Empires of the Monsoon</td>\n      <td>A History of the Indian Ocean and Its Invaders</td>\n      <td>Richard Hall</td>\n      <td>Africa, East</td>\n      <td>http://books.google.com/books/content?id=MuPEQ...</td>\n      <td>Until Vasco da Gama discovered the sea-route t...</td>\n      <td>1998.0</td>\n      <td>4.41</td>\n      <td>608.0</td>\n      <td>65.0</td>\n    </tr>\n    <tr>\n      <th>8</th>\n      <td>9780006470229</td>\n      <td>000647022X</td>\n      <td>The Gap Into Madness</td>\n      <td>Chaos and Order</td>\n      <td>Stephen R. Donaldson</td>\n      <td>Hyland, Morn (Fictitious character)</td>\n      <td>http://books.google.com/books/content?id=4oXav...</td>\n      <td>A new-cover reissue of the fourth book in the ...</td>\n      <td>1994.0</td>\n      <td>4.15</td>\n      <td>743.0</td>\n      <td>103.0</td>\n    </tr>\n    <tr>\n      <th>9</th>\n      <td>9780006472612</td>\n      <td>0006472613</td>\n      <td>Master of the Game</td>\n      <td>NaN</td>\n      <td>Sidney Sheldon</td>\n      <td>Adventure stories</td>\n      <td>http://books.google.com/books/content?id=TkTYp...</td>\n      <td>Kate Blackwell is an enigma and one of the mos...</td>\n      <td>1982.0</td>\n      <td>4.11</td>\n      <td>489.0</td>\n      <td>43540.0</td>\n    </tr>\n  </tbody>\n</table>\n</div>"
     },
     "execution_count": 1,
     "metadata": {},
     "output_type": "execute_result"
    }
   ],
   "source": [
    "import pandas as pd\n",
    "df=pd.read_csv('books.csv')\n",
    "df.head(10)"
   ]
  },
  {
   "cell_type": "code",
   "execution_count": 2,
   "metadata": {
    "ExecuteTime": {
     "end_time": "2024-03-28T18:18:02.184755Z",
     "start_time": "2024-03-28T18:18:02.177404Z"
    }
   },
   "outputs": [
    {
     "data": {
      "text/plain": "(6810, 12)"
     },
     "execution_count": 2,
     "metadata": {},
     "output_type": "execute_result"
    }
   ],
   "source": [
    "df.shape"
   ]
  },
  {
   "cell_type": "code",
   "execution_count": 3,
   "metadata": {
    "ExecuteTime": {
     "end_time": "2024-03-28T18:18:02.211022Z",
     "start_time": "2024-03-28T18:18:02.186758Z"
    }
   },
   "outputs": [
    {
     "data": {
      "text/plain": "isbn13               0\nisbn10               0\ntitle                0\nsubtitle          4429\nauthors             72\ncategories          99\nthumbnail          329\ndescription        262\npublished_year       6\naverage_rating      43\nnum_pages           43\nratings_count       43\ndtype: int64"
     },
     "execution_count": 3,
     "metadata": {},
     "output_type": "execute_result"
    }
   ],
   "source": [
    "df.isnull().sum()"
   ]
  },
  {
   "cell_type": "code",
   "execution_count": 4,
   "metadata": {
    "ExecuteTime": {
     "end_time": "2024-03-28T18:18:02.219867Z",
     "start_time": "2024-03-28T18:18:02.212027Z"
    }
   },
   "outputs": [
    {
     "data": {
      "text/plain": "\"A new 'Christie for Christmas' -- a full-length novel adapted from her acclaimed play by Charles Osborne Following BLACK COFFEE and THE UNEXPECTED GUEST comes the final Agatha Christie play novelisation, bringing her superb storytelling to a new legion of fans. Clarissa, the wife of a Foreign Office diplomat, is given to daydreaming. 'Supposing I were to come down one morning and find a dead body in the library, what should I do?' she muses. Clarissa has her chance to find out when she discovers a body in the drawing-room of her house in Kent. Desperate to dispose of the body before her husband comes home with an important foreign politician, Clarissa persuades her three house guests to become accessories and accomplices. It seems that the murdered man was not unknown to certain members of the house party (but which ones?), and the search begins for the murderer and the motive, while at the same time trying to persuade a police inspector that there has been no murder at all... SPIDER'S WEB was written in 1954 specifically for Margaret Lockwood and opened first at the Theatre Royal Nottingham before moving to the Savoy Theatre in London on 14 December 1954. With THE MOUSETRAP and WI\""
     },
     "execution_count": 4,
     "metadata": {},
     "output_type": "execute_result"
    }
   ],
   "source": [
    "df['description'][1]"
   ]
  },
  {
   "cell_type": "code",
   "execution_count": 5,
   "metadata": {
    "ExecuteTime": {
     "end_time": "2024-03-28T18:18:02.239920Z",
     "start_time": "2024-03-28T18:18:02.223436Z"
    }
   },
   "outputs": [
    {
     "data": {
      "text/plain": "                           categories\nFiction                          2588\nJuvenile Fiction                  538\nBiography & Autobiography         401\nHistory                           264\nLiterary Criticism                166\n...                               ...\nParis (France)                      1\nAutonomy (Psychology).              1\nBombings                            1\nIndia                               1\nMysticism                           1\n\n[567 rows x 1 columns]",
      "text/html": "<div>\n<style scoped>\n    .dataframe tbody tr th:only-of-type {\n        vertical-align: middle;\n    }\n\n    .dataframe tbody tr th {\n        vertical-align: top;\n    }\n\n    .dataframe thead th {\n        text-align: right;\n    }\n</style>\n<table border=\"1\" class=\"dataframe\">\n  <thead>\n    <tr style=\"text-align: right;\">\n      <th></th>\n      <th>categories</th>\n    </tr>\n  </thead>\n  <tbody>\n    <tr>\n      <th>Fiction</th>\n      <td>2588</td>\n    </tr>\n    <tr>\n      <th>Juvenile Fiction</th>\n      <td>538</td>\n    </tr>\n    <tr>\n      <th>Biography &amp; Autobiography</th>\n      <td>401</td>\n    </tr>\n    <tr>\n      <th>History</th>\n      <td>264</td>\n    </tr>\n    <tr>\n      <th>Literary Criticism</th>\n      <td>166</td>\n    </tr>\n    <tr>\n      <th>...</th>\n      <td>...</td>\n    </tr>\n    <tr>\n      <th>Paris (France)</th>\n      <td>1</td>\n    </tr>\n    <tr>\n      <th>Autonomy (Psychology).</th>\n      <td>1</td>\n    </tr>\n    <tr>\n      <th>Bombings</th>\n      <td>1</td>\n    </tr>\n    <tr>\n      <th>India</th>\n      <td>1</td>\n    </tr>\n    <tr>\n      <th>Mysticism</th>\n      <td>1</td>\n    </tr>\n  </tbody>\n</table>\n<p>567 rows × 1 columns</p>\n</div>"
     },
     "execution_count": 5,
     "metadata": {},
     "output_type": "execute_result"
    }
   ],
   "source": [
    "pd.DataFrame(df['categories'].value_counts())\n",
    "# there are 567 unique categories in the dataset"
   ]
  },
  {
   "cell_type": "code",
   "execution_count": 6,
   "metadata": {
    "ExecuteTime": {
     "end_time": "2024-03-28T18:18:02.253574Z",
     "start_time": "2024-03-28T18:18:02.241922Z"
    }
   },
   "outputs": [],
   "source": [
    "df=df.drop('isbn13',axis=1)\n",
    "df=df.drop('isbn10',axis=1)"
   ]
  },
  {
   "cell_type": "code",
   "execution_count": 7,
   "metadata": {
    "ExecuteTime": {
     "end_time": "2024-03-28T18:18:02.262175Z",
     "start_time": "2024-03-28T18:18:02.254577Z"
    }
   },
   "outputs": [],
   "source": [
    "df=df.drop('subtitle',axis=1)"
   ]
  },
  {
   "cell_type": "code",
   "execution_count": 8,
   "metadata": {
    "ExecuteTime": {
     "end_time": "2024-03-28T18:18:02.284171Z",
     "start_time": "2024-03-28T18:18:02.263181Z"
    }
   },
   "outputs": [],
   "source": [
    "# lets drop the subtitle column since we will not be using it in the future\n",
    "df=df.drop('ratings_count',axis=1)\n",
    "df=df.drop('num_pages',axis=1)\n",
    "#lets drop the null values in authors and categories\n",
    "df=df.dropna(subset=['authors','categories','published_year','average_rating'])\n",
    "#lets convert the null values in other columns into empty strings\n",
    "df['description'] = df['description'].fillna('')\n",
    "df['thumbnail'] = df['thumbnail'].fillna('')"
   ]
  },
  {
   "cell_type": "code",
   "execution_count": 9,
   "metadata": {
    "ExecuteTime": {
     "end_time": "2024-03-28T18:18:02.300863Z",
     "start_time": "2024-03-28T18:18:02.285176Z"
    }
   },
   "outputs": [
    {
     "data": {
      "text/plain": "title             0\nauthors           0\ncategories        0\nthumbnail         0\ndescription       0\npublished_year    0\naverage_rating    0\ndtype: int64"
     },
     "execution_count": 9,
     "metadata": {},
     "output_type": "execute_result"
    }
   ],
   "source": [
    "df.isnull().sum()"
   ]
  },
  {
   "cell_type": "code",
   "execution_count": 10,
   "metadata": {
    "ExecuteTime": {
     "end_time": "2024-03-28T18:18:02.308073Z",
     "start_time": "2024-03-28T18:18:02.301867Z"
    }
   },
   "outputs": [
    {
     "data": {
      "text/plain": "(6599, 7)"
     },
     "execution_count": 10,
     "metadata": {},
     "output_type": "execute_result"
    }
   ],
   "source": [
    "df.shape"
   ]
  },
  {
   "cell_type": "markdown",
   "metadata": {},
   "source": [
    "## DATA PREPROCESSING"
   ]
  },
  {
   "cell_type": "code",
   "execution_count": 10,
   "metadata": {
    "ExecuteTime": {
     "end_time": "2024-03-28T18:18:02.314518Z",
     "start_time": "2024-03-28T18:18:02.310086Z"
    }
   },
   "outputs": [],
   "source": []
  },
  {
   "cell_type": "code",
   "execution_count": 12,
   "metadata": {
    "ExecuteTime": {
     "end_time": "2024-03-28T18:21:01.147031Z",
     "start_time": "2024-03-28T18:21:00.299466Z"
    }
   },
   "outputs": [
    {
     "name": "stdout",
     "output_type": "stream",
     "text": [
      "Original Text: @#$ i Charlie Chaplin love pancakes and honey\n",
      "Preprocessed Text:  charlie chaplin love pancake honey\n"
     ]
    }
   ],
   "source": [
    "import spacy\n",
    "import re\n",
    "\n",
    "# Load the English tokenizer, tagger, parser, and NER\n",
    "nlp = spacy.load(\"en_core_web_sm\", disable=['ner'])  # Disabling Named Entity Recognition for faster processing\n",
    "\n",
    "def preprocess_text(text):\n",
    "    # Parse the text using SpaCy\n",
    "    doc = nlp(text)\n",
    "    \n",
    "    # Lemmatize and remove stopwords and special characters\n",
    "    preprocessed_tokens = [token.lemma_.lower() for token in doc if not token.is_stop and not token.is_punct and not token.is_space and not token.is_digit]\n",
    "    \n",
    "    # Join tokens back into text\n",
    "    preprocessed_text = ' '.join(preprocessed_tokens)\n",
    "    \n",
    "    # Remove remaining special characters using regex\n",
    "    preprocessed_text = re.sub(r'[^a-zA-Z\\s]', '', preprocessed_text)\n",
    "    \n",
    "    return preprocessed_text\n",
    "\n",
    "# Example usage:\n",
    "text = \"@#$ i Charlie Chaplin love pancakes and honey\"\n",
    "preprocessed_text = preprocess_text(text)\n",
    "print(\"Original Text:\", text)\n",
    "print(\"Preprocessed Text:\", preprocessed_text)"
   ]
  },
  {
   "cell_type": "code",
   "outputs": [],
   "source": [],
   "metadata": {
    "collapsed": false
   }
  },
  {
   "cell_type": "code",
   "execution_count": null,
   "metadata": {
    "ExecuteTime": {
     "start_time": "2024-03-28T18:18:05.200691Z"
    }
   },
   "outputs": [],
   "source": [
    "import pandas as pd\n",
    "import re\n",
    "\n",
    "# Load the dataset containing information about books\n",
    "books_df =df.reset_index(drop=True)\n",
    "\n",
    "# Apply preprocessing to all textual features\n",
    "text_features = ['authors','description','title','categories']\n",
    "for feature in text_features:\n",
    "    books_df[feature] = books_df[feature].fillna('').apply(preprocess_text)"
   ]
  },
  {
   "cell_type": "code",
   "execution_count": null,
   "metadata": {
    "ExecuteTime": {
     "start_time": "2024-03-28T18:18:05.202689Z"
    }
   },
   "outputs": [],
   "source": [
    "books_df.head(10)"
   ]
  },
  {
   "cell_type": "code",
   "execution_count": null,
   "metadata": {
    "ExecuteTime": {
     "start_time": "2024-03-28T18:18:05.204690Z"
    }
   },
   "outputs": [],
   "source": [
    "from sklearn.feature_extraction.text import TfidfVectorizer\n",
    "from sklearn.metrics.pairwise import cosine_similarity\n",
    "# Combine all textual features into a single feature\n",
    "books_df['combined_text'] = books_df['title'] + ' ' + books_df['categories'] + ' ' + books_df['authors'] + ' ' + books_df['description']\n",
    "\n",
    "# Use TF-IDF vectorization to convert textual features into numerical representations\n",
    "tfidf_vectorizer = TfidfVectorizer()\n",
    "combined_tfidf = tfidf_vectorizer.fit_transform(books_df['combined_text'])\n",
    "\n",
    "# Calculate similarity scores between items (books) based on their feature vectors\n",
    "similarity_matrix = cosine_similarity(combined_tfidf, combined_tfidf)"
   ]
  },
  {
   "cell_type": "code",
   "execution_count": null,
   "metadata": {},
   "outputs": [],
   "source": [
    "pd.DataFrame(similarity_matrix)"
   ]
  },
  {
   "cell_type": "code",
   "execution_count": null,
   "metadata": {},
   "outputs": [],
   "source": [
    "books_df.head(10)"
   ]
  },
  {
   "cell_type": "code",
   "execution_count": null,
   "metadata": {},
   "outputs": [],
   "source": [
    "# Import necessary libraries\n",
    "import pandas as pd\n",
    "from wordcloud import WordCloud\n",
    "import matplotlib.pyplot as plt\n",
    "\n",
    "# Assuming 'column_name' is the name of the column containing text data in your DataFrame\n",
    "\n",
    "# Concatenate all text data in the column into a single string\n",
    "concatenated_text = ' '.join(books_df['combined_text'].astype(str).values)\n",
    "\n",
    "# Generate the word cloud\n",
    "wordcloud = WordCloud(width=800, height=400, background_color='white').generate(concatenated_text)\n",
    "\n",
    "# Display the word cloud using matplotlib\n",
    "plt.figure(figsize=(10, 5))\n",
    "plt.imshow(wordcloud, interpolation='bilinear')\n",
    "plt.axis('off')  # Hide axes\n",
    "plt.show()\n"
   ]
  },
  {
   "cell_type": "code",
   "execution_count": null,
   "metadata": {
    "ExecuteTime": {
     "start_time": "2024-03-28T18:18:05.211263Z"
    }
   },
   "outputs": [],
   "source": [
    "books_df.shape"
   ]
  },
  {
   "cell_type": "markdown",
   "metadata": {},
   "source": [
    "## content based recommendation model"
   ]
  },
  {
   "cell_type": "code",
   "execution_count": null,
   "metadata": {},
   "outputs": [],
   "source": [
    "books_df=books_df.reset_index(drop=True)"
   ]
  },
  {
   "cell_type": "code",
   "execution_count": null,
   "metadata": {},
   "outputs": [],
   "source": [
    "def recommend_books_based_on_input(user_input, similarity_matrix, books_df, top_n=5):\n",
    "    # Preprocess user input\n",
    "    user_input = preprocess_text(user_input)\n",
    "\n",
    "    # Find the indices of books that match the user input\n",
    "    matching_indices = books_df.index[books_df['combined_text'].str.contains(user_input, case=False)].tolist()\n",
    "\n",
    "    # Ensure that matching indices are within the bounds of the similarity matrix\n",
    "    #matching_indices = [idx for idx in matching_indices if idx < len(similarity_matrix)]\n",
    "\n",
    "    if not matching_indices:\n",
    "        print(\"No matching books found for the input.\")\n",
    "        return None\n",
    "\n",
    "    # Calculate the average similarity scores for matching books\n",
    "    average_similarity_scores = []\n",
    "    for idx in matching_indices:\n",
    "        similarity_scores = similarity_matrix[idx]\n",
    "        average_similarity_scores.append(sum(similarity_scores) / len(similarity_scores))\n",
    "\n",
    "    # Sort matching books by average similarity scores\n",
    "    sorted_indices = [x for _, x in sorted(zip(average_similarity_scores, matching_indices), reverse=True)]\n",
    "\n",
    "    # Recommend top N similar books\n",
    "    recommended_books = books_df.iloc[sorted_indices[:top_n]]\n",
    "    return recommended_books[['title', 'authors','thumbnail']]\n",
    "\n",
    "\n",
    "user_input = input(\"Please enter a keyword or phrase: \")\n",
    "recommended_books = recommend_books_based_on_input(user_input, similarity_matrix, books_df)\n",
    "print(recommended_books)\n"
   ]
  },
  {
   "cell_type": "code",
   "execution_count": null,
   "metadata": {},
   "outputs": [],
   "source": [
    "import joblib\n",
    "\n",
    "import numpy as np\n",
    "\n",
    "# Optionally, save other necessary data\n",
    "joblib.dump(tfidf_vectorizer, 'tfidf_vectorizer.pkl')\n",
    "np.save('similarity_matrix.npy', similarity_matrix)\n",
    "books_df.to_csv('books_data.csv', index=False)"
   ]
  },
  {
   "cell_type": "code",
   "execution_count": null,
   "metadata": {},
   "outputs": [],
   "source": [
    "books_df.to_csv('books_data.csv', index=False)"
   ]
  }
 ],
 "metadata": {
  "kernelspec": {
   "display_name": "Python 3",
   "language": "python",
   "name": "python3"
  },
  "language_info": {
   "codemirror_mode": {
    "name": "ipython",
    "version": 3
   },
   "file_extension": ".py",
   "mimetype": "text/x-python",
   "name": "python",
   "nbconvert_exporter": "python",
   "pygments_lexer": "ipython3",
   "version": "3.12.0"
  }
 },
 "nbformat": 4,
 "nbformat_minor": 2
}
